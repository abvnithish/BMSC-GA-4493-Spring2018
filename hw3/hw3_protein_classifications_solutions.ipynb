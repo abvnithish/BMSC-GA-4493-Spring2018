{
 "cells": [
  {
   "cell_type": "markdown",
   "metadata": {
    "deletable": true,
    "editable": true
   },
   "source": [
    "# Deep Learning in Medicine\n",
    "## BMSC-GA 4493, BMIN-GA 3007\n",
    "## Homework 3: Sequence Classification\n",
    "\n",
    "Note 1: If you don't know how to run jupyter on the Prince cluster, here is another step-by-step guide here: \n",
    "<a href='https://docs.google.com/document/d/1HIdtzqJ6-RpsV0z2Gf5iXphNBTRca1kHZPlyqFxKpWs/edit?usp=sharing'> **Running Jupyter on the Cluster **</a>\n",
    "\n",
    "Note 2: If you need to write mathematical terms, you can type your answeres in a Markdown Cell via LaTex\n",
    "See: <a href=\"https://stackoverflow.com/questions/13208286/how-to-write-latex-in-ipython-notebook\">here</a> if you have issues. To see basic LaTex notation see: <a href=\"https://en.wikibooks.org/wiki/LaTeX/Mathematics\">here</a>.\n",
    "\n",
    "\n",
    "Submission instruction: Upload and Submit your final jupyter notebook file in newclasses.nyu.edu\n",
    "\n",
    "Submission deadline: Tuesday April 10th 2018 (3pm, before class)\n",
    "\n"
   ]
  },
  {
   "cell_type": "markdown",
   "metadata": {
    "deletable": true,
    "editable": true
   },
   "source": [
    "# Question 1: Literature Review for Sequence Classification: DeepBind (Total points 20 + 20 Bonus points)\n",
    "\n",
    "Read this paper:\n",
    "\n",
    "#### Babak Alipanahi1, Andrew Delong, Matthew T Weirauch & Brendan J Frey, *\"Predicting the sequence specificities of DNA- and RNA-binding proteins by deep learning\"* Nature Biotechnology, 2015  https://www.nature.com/articles/nbt.3300.pdf\n",
    "\n",
    "We are interested in understanding the task, the methods that is proposed in this publication, technical aspects of the implementation, and possible future work.\n",
    "\n",
    "**1.1) (5 points)** After you read the full article, go back to section **Training DeepBind and scoring sequences**. How do the authors define the **binding score, f(s)** on a given sequence? Write the formula here, and describe in your own words, in a few sentences, how the score is computed for each sequence (s)?\n"
   ]
  },
  {
   "cell_type": "markdown",
   "metadata": {
    "collapsed": true,
    "deletable": true,
    "editable": true
   },
   "source": [
    "Answer:\n",
    "\n",
    "The binding scores comes from $f(s)=net_w(pool(rect_b(conv_m(s))))$, which is the following:\n",
    "Input is transformed through conv_m layer, then Relu, then a pooling layer (max and average), and then a fully connected layer. "
   ]
  },
  {
   "cell_type": "markdown",
   "metadata": {
    "deletable": true,
    "editable": true
   },
   "source": [
    "**1.2) (5 points)** What is the loss function that they are optimizing?"
   ]
  },
  {
   "cell_type": "markdown",
   "metadata": {
    "collapsed": true,
    "deletable": true,
    "editable": true
   },
   "source": [
    "Answer:\n",
    "\n",
    "The task is a binary classification for predicting binding likelihood, and one of the loss functions used in the paper is cross entropy (or log likelihood) for predicted 0/1 labels and the ground truth. There's a second correct answer which is mean square error for binding affinity."
   ]
  },
  {
   "cell_type": "markdown",
   "metadata": {
    "deletable": true,
    "editable": true
   },
   "source": [
    "**1.3) (5 points)** What is the evaluation criteria based on which the authors do their cross validation? (Hint: Check Figure 2)."
   ]
  },
  {
   "cell_type": "markdown",
   "metadata": {
    "collapsed": true,
    "deletable": true,
    "editable": true
   },
   "source": [
    "Answer: \n",
    "\n",
    "Area Under ROC curve (AUC)"
   ]
  },
  {
   "cell_type": "markdown",
   "metadata": {
    "deletable": true,
    "editable": true
   },
   "source": [
    "**1.4) (5 points)** Are there some data augmentation/regularization that authors have used? What are some techniques that could have been used and wasn't? (Go back to Lecture 7 or Chapter 7 of your book for more info.)"
   ]
  },
  {
   "cell_type": "markdown",
   "metadata": {
    "collapsed": true,
    "deletable": true,
    "editable": true
   },
   "source": [
    "Answer:\n",
    "\n",
    "Already used techniques include dropout, weight decay, and early stopping.\n",
    "\n",
    "Can add:\n",
    "\n",
    "Augmentation by randomly changing the one-hot label for each position, to be robust to sequencing errors.\n",
    "\n",
    "Augmentation via adversarial example generation.\n",
    "\n",
    "Augmentation by clipping the sequences randomly (i.e. random crops)\n",
    "\n",
    "Adding batch-normalization to the architecture"
   ]
  },
  {
   "cell_type": "markdown",
   "metadata": {
    "deletable": true,
    "editable": true
   },
   "source": [
    "**1.5) (Bonus maximum 20 points)**. What other architectures would you try? For each family of models, please do a literature search and see if a paper on that architecture for the task of DNA binding detection has been published"
   ]
  },
  {
   "cell_type": "markdown",
   "metadata": {
    "collapsed": true,
    "deletable": true,
    "editable": true
   },
   "source": [
    "Answer:\n",
    "\n",
    "First group of architectures: Multi-layered Convolutional models\n",
    "\n",
    "Second group of architectures: LSTM or GRU or Bidirectional LSTM models\n",
    "\n",
    "Third group of architectures: Attention model\n",
    "\n",
    "Fourth group of architectures: Mix of convolutional and RNN models. Convolution can infer motifs and LSRM can infer interactions between them that might be due to 3D shape of the RNN sequences.\n",
    "\n",
    "Bonus Papers(Thanks to student's good finds!)\n",
    "\n",
    "+ Convolutional Kernel Network (CKNs)\n",
    "  + [Morrow, Alyssa, et al. \"Convolutional Kitchen Sinks for Transcription Factor Binding Site Prediction.\" arXiv preprint arXiv:1706.00125 (2017).](https://arxiv.org/pdf/1706.00125.pdf)\n",
    "  \n",
    "+ Long Short Term Memory Networks (LSTMs)\n",
    "  + [Lanchantin, Jack, Ritambhara Singh, and Yanjun Qi. \"Memory Matching Networks for Genomic Sequence Classification.\" arXiv preprint arXiv:1702.06760 (2017).](https://openreview.net/pdf?id=ryh9ZySFg)\n",
    "  \n",
    "+ Convolutional Neural Network feeding into a Long Short Term Memory Network\n",
    "  + [Qu, Yu-Hui, et al. \"On the prediction of DNA-binding proteins only from primary sequences: A deep learning approach.\" PloS one 12.12 (2017): e0188129.](http://journals.plos.org/plosone/article?id=10.1371/journal.pone.0188129)\n",
    "  \n",
    "  + [Hassanzadeh, Hamid Reza, and May D. Wang. \"DeeperBind: enhancing prediction of sequence specificities of DNA binding proteins.\" Bioinformatics and Biomedicine (BIBM), 2016 IEEE International Conference on. IEEE, 2016.](https://arxiv.org/pdf/1611.05777.pdf)\n",
    "  \n",
    "+ [Quang, Daniel, and Xiaohui Xie. \"DanQ: a hybrid convolutional and recurrent deep neural network for quantifying the function of DNA sequences.\" Nucleic acids research 44.11 (2016): e107-e107.]\n",
    "  \n",
    "+ [Kelley, David R., Jasper Snoek, and John L. Rinn. \"Basset: learning the regulatory code of the accessible genome with deep convolutional neural networks.\" Genome research 26.7 (2016): 990-999.]\n",
    "\n",
    "+ [Zhou, Jian, and Olga G. Troyanskaya. \"Predicting effects of noncoding variants with deep learning–based sequence model.\" Nature methods 12.10 (2015): 931.]\n",
    "\n",
    "+ [Leung, Michael KK, et al. \"Deep learning of the tissue-regulated splicing code.\" Bioinformatics 30.12 (2014): i121-i129.]\n",
    "\n",
    "+ [Zeng, Haoyang, et al. \"Convolutional neural network architectures for predicting DNA–protein binding.\" Bioinformatics 32.12 (2016): i121-i127.]\n",
    "\n",
    "+ [Chen, Yifei, et al. \"Gene expression inference with deep learning.\" Bioinformatics 32.12 (2016): 1832-1839]\n"
   ]
  },
  {
   "cell_type": "markdown",
   "metadata": {
    "deletable": true,
    "editable": true
   },
   "source": [
    "# Question 2 - Literature Review for Sequence Labeling (20 points)\n",
    "\n",
    "Read this paper: \n",
    "\n",
    "\n",
    "#### Mohammed AlQuraishi, \"End-to-end differentiable learning of protein structure\", 2018 bioRxiv 265231; doi: https://doi.org/10.1101/265231\n",
    "\n",
    "\n",
    "We are interested in the task, the methods proposed in the paper, technical aspect of the implementation, and possible future work. \n",
    "\n",
    "After you read the article, go back to Figure 2. \n",
    "\n",
    "**2.1)( 5 points)** What is the architecture used in this task, to predict from the amino acid letter, to the three torsion angles? Describe the family of the architecture and few words on how the input sequence is converted to output in that architecture?\n"
   ]
  },
  {
   "cell_type": "markdown",
   "metadata": {
    "collapsed": true,
    "deletable": true,
    "editable": true
   },
   "source": [
    "Answer: \n",
    "\n",
    "The architecture is an LSTM. The input is amino acid sequence and the output is the sequence of torsion angles between the atoms."
   ]
  },
  {
   "cell_type": "markdown",
   "metadata": {
    "deletable": true,
    "editable": true
   },
   "source": [
    "**2.2)(5 points)** Once the structure is predicted, what is the Loss function that is being optimized between the predicted structure and the ground truth structure? "
   ]
  },
  {
   "cell_type": "markdown",
   "metadata": {
    "collapsed": true,
    "deletable": true,
    "editable": true
   },
   "source": [
    "Answer:\n",
    "\n",
    "The particular loss function is called dRMSD, and is computed as: the pairwise distances between all\n",
    "atoms in the predicted structure and all atoms in the experimental one (separately), and then computes the root\n",
    "mean square of the distance between these sets of distances. "
   ]
  },
  {
   "cell_type": "markdown",
   "metadata": {
    "deletable": true,
    "editable": true
   },
   "source": [
    "**2.3)(10 points) ** What are some alternative architectures that you would recommend as followup work? Name 2 potential architectures, and in a few sentences explain why the proposed model might work better.\n"
   ]
  },
  {
   "cell_type": "markdown",
   "metadata": {
    "collapsed": true,
    "deletable": true,
    "editable": true
   },
   "source": [
    "Answer:\n",
    "\n",
    "Potential new architectures include: \n",
    "\n",
    "Convolutional neural networks of varous depth\n",
    "\n",
    "Attention based RNN model\n",
    "\n",
    "Memory networks\n",
    "\n",
    "Convolution + RNN models\n",
    "\n",
    "GRU RNN units instead of LSTM\n",
    "\n",
    "Using BatchNormalization in the architecture\n",
    "\n",
    "Additional items to improve results include:\n",
    "\n",
    "Better data augmentation via adversarial training, data clipping, adding noise, etc."
   ]
  },
  {
   "cell_type": "markdown",
   "metadata": {
    "deletable": true,
    "editable": true
   },
   "source": [
    "**2.4) - no points just for your reference : The dataset for this paper is publicly available. Any new architecture that improves the prediction model will definitely be publication worthy and extremely valuable! Make a note of that and if you work on this topic, check the dataset out: https://github.com/aqlaboratory/proteinnet **"
   ]
  },
  {
   "cell_type": "markdown",
   "metadata": {
    "deletable": true,
    "editable": true
   },
   "source": [
    "# Question 3 - Programming: Build Sequence Classifiers - Convolutional and Recurrent (60 points + 5 bonus points)\n",
    "\n",
    "Let's build some models now, to try to classify each <a href=\"\">protein</a> (represented as <a href=\"https://en.wikipedia.org/wiki/Protein_primary_structure\">a sequence of amino acids</a>), into protein families.  \n",
    "\n",
    "Why this is an important task? Briefly, our DNAs encode the code for proteins, which are molecular machines that make the cells work. \n",
    "\n",
    "![Our DNAs encode the code for proteins, which are molecular machines that make the cells work](https://upload.wikimedia.org/wikipedia/commons/thumb/3/37/Genetic_code.svg/580px-Genetic_code.svg.png) | ![Sequence to Structure](http://www.robotics.tu-berlin.de/fileadmin/_processed_/1/1f/csm_compbio_seq2struct_1614a2532b.jpg)\n",
    "\n",
    "Given the sequence of the amino acids, there is great scientific value in being able to predict its 3D structure, and predict whether the protein will or will not bind to other chemical molecules such as drugs or other proteins. \n",
    "The applications are numerous in disease understanding and treatment (i.e. <a href=\"https://en.wikipedia.org/wiki/Amyloid_beta\">Alzheimer's disease is related to *beta-amyloid* proteins in our brain not folding correctly and creating plaques</a>).\n",
    "\n",
    "In this homework, we will focus on a dataset which has more than 400,000 protein sequences and their classes. The data and related pre-processing scriptes are is available <a href=\"https://www.kaggle.com/abharg16/predicting-protein-classification/data\">here</a> and <a href=\"https://www.kaggle.com/abharg16/predicting-protein-classification/notebook\">here</a>, which are super awesome.\n",
    "\n",
    "\n",
    "Here, we will focus on predicting top 3 classes of proteins, from the sequence of the amino acids of that protein.\n",
    "The data is available in the cluster in /scratch/nsr3/protein/rcsb/, although you're also welcome to have your own local copy of the data and work with that. We need two files: pdb_data_seq.csv and pdb_data_no_dups.csv\n"
   ]
  },
  {
   "cell_type": "markdown",
   "metadata": {
    "deletable": true,
    "editable": true
   },
   "source": [
    "** 3.1) (5 points)** Preprocessing. Most of the preprocessing is available in the kernel that came with the data. In paricular you can use the following to pre-process your data. Pre-process your data and tell us, \n",
    "how many data samples are available after the pre-processing?"
   ]
  },
  {
   "cell_type": "code",
   "execution_count": 1,
   "metadata": {
    "collapsed": true,
    "deletable": true,
    "editable": true
   },
   "outputs": [],
   "source": [
    "import pandas as pd\n",
    "import numpy as np\n",
    "from matplotlib import pyplot as plt\n",
    "\n",
    "# Import Datasets\n",
    "df_seq = pd.read_csv('/scratch/nsr3/protein/rcsb/pdb_data_seq.csv')\n",
    "df_char = pd.read_csv('/scratch/nsr3/protein/rcsb/pdb_data_no_dups.csv')\n",
    "\n",
    "# Filter for only proteins\n",
    "protein_char = df_char[df_char.macromoleculeType == 'Protein']\n",
    "protein_seq = df_seq[df_seq.macromoleculeType == 'Protein']\n",
    "\n",
    "# Select only necessary variables to join\n",
    "protein_char = protein_char[['structureId','classification']]\n",
    "protein_seq = protein_seq[['structureId','sequence']]\n",
    "\n",
    "model_f = protein_char.set_index('structureId').join(protein_seq.set_index('structureId'))\n",
    "model_f = model_f.dropna()"
   ]
  },
  {
   "cell_type": "code",
   "execution_count": null,
   "metadata": {
    "collapsed": true,
    "deletable": true,
    "editable": true
   },
   "outputs": [],
   "source": []
  },
  {
   "cell_type": "markdown",
   "metadata": {
    "deletable": true,
    "editable": true
   },
   "source": [
    "** 3.2) (5 points) ** Select only the classes that have *more than 30,000 samples*. Which classes are there, and how many rows do you have after this filteration?"
   ]
  },
  {
   "cell_type": "code",
   "execution_count": 2,
   "metadata": {
    "collapsed": false,
    "deletable": true,
    "editable": true,
    "scrolled": false
   },
   "outputs": [
    {
     "name": "stdout",
     "output_type": "stream",
     "text": [
      "HYDROLASE                                    46336\n",
      "TRANSFERASE                                  36424\n",
      "OXIDOREDUCTASE                               34321\n",
      "IMMUNE SYSTEM                                15615\n",
      "LYASE                                        11682\n",
      "HYDROLASE/HYDROLASE INHIBITOR                11218\n",
      "TRANSCRIPTION                                 8919\n",
      "VIRAL PROTEIN                                 8495\n",
      "TRANSPORT PROTEIN                             8371\n",
      "VIRUS                                         6972\n",
      "SIGNALING PROTEIN                             6469\n",
      "ISOMERASE                                     6356\n",
      "LIGASE                                        4964\n",
      "MEMBRANE PROTEIN                              4891\n",
      "PROTEIN BINDING                               4884\n",
      "STRUCTURAL PROTEIN                            4335\n",
      "CHAPERONE                                     4156\n",
      "STRUCTURAL GENOMICS, UNKNOWN FUNCTION         3548\n",
      "SUGAR BINDING PROTEIN                         3474\n",
      "DNA BINDING PROTEIN                           3199\n",
      "PHOTOSYNTHESIS                                3139\n",
      "ELECTRON TRANSPORT                            3047\n",
      "TRANSFERASE/TRANSFERASE INHIBITOR             3032\n",
      "METAL BINDING PROTEIN                         3023\n",
      "CELL ADHESION                                 2999\n",
      "UNKNOWN FUNCTION                              2842\n",
      "PROTEIN TRANSPORT                             2674\n",
      "TOXIN                                         2626\n",
      "CELL CYCLE                                    2496\n",
      "RNA BINDING PROTEIN                           1969\n",
      "                                             ...  \n",
      "GAMMA-CARBOXYGLUTAMIC ACID                       1\n",
      "DEATH DOMAIN                                     1\n",
      "PLANT PROTEIN, LYASE                             1\n",
      "RIBOSOME BINDING                                 1\n",
      "PHOSPHOLIPID ANALOG                              1\n",
      "REPLICATION, PEPTIDE BINDING PROTEIN             1\n",
      "Hydrolase/hydrolase activator                    1\n",
      "REPLICATION, TRANSCRIPTION REGULATOR             1\n",
      "RNA BINDING PROTEIN, GENE REGULATION             1\n",
      "COMPLEX (PHOSPHOTRANSFERASE/ADENOSINE)           1\n",
      "SYNTHETIC PROTEIN MODEL                          1\n",
      "FATTY ACID METABOLISM                            1\n",
      "COMPLEX (CHROMOSOMAL TRANSLOCATION/ADE)          1\n",
      "PEROXIDASE(DONOR:H2O2 OXIDOREDUCTASE)            1\n",
      "Calcium Binding, Fluorescent, Transferase        1\n",
      "De Novo Protein, Immune System                   1\n",
      "UBIQUITIN-LIKE PROTEIN                           1\n",
      "PANCREATIC RIBONUCLEASE                          1\n",
      "LIGASE, LYASE                                    1\n",
      "DNA BINDING PROTEIN, protein binding             1\n",
      "CARBOHYDRATE KINASE                              1\n",
      "TELOMERASE-BINDING PROTEIN                       1\n",
      "STRUCTURAL PROTEIN, RNA BINDING PROTEIN          1\n",
      "OXIDOREDUCTASE,ISOMERASE                         1\n",
      "OXIDOREDUCTASE/OXIDOREDUCTASE INIHBITOR          1\n",
      "NOVEL SEQUENCE                                   1\n",
      "ADP-RIBOSE BINDING PROTEIN                       1\n",
      "SIGNALING PROTEIN, TRANSLATION                   1\n",
      "APOPTOSIS, METAL BINDING PROTEIN                 1\n",
      "MOLYBDOPTERIN NUCLEOTIDYL-TRANSFERASE            1\n",
      "Name: classification, dtype: int64\n",
      "['HYDROLASE' 'TRANSFERASE' 'OXIDOREDUCTASE']\n",
      "117081 is the number of records in the final filtered dataset\n"
     ]
    }
   ],
   "source": [
    "counts = model_f.classification.value_counts()\n",
    "print(counts)\n",
    "\n",
    "types = np.asarray(counts[(counts > 30000)].index)\n",
    "data = model_f[model_f.classification.isin(types)]\n",
    "\n",
    "datax = np.array(data.sequence)\n",
    "datay = np.array(data.classification)\n",
    "datayix = np.array(pd.get_dummies(data.classification))\n",
    "\n",
    "print(types)\n",
    "print('%d is the number of records in the final filtered dataset' %data.shape[0])"
   ]
  },
  {
   "cell_type": "markdown",
   "metadata": {
    "collapsed": false,
    "deletable": true,
    "editable": true
   },
   "source": [
    "** 3.3) (5 points) ** Write a function, that takes a protein sequence *S* in, and converts it into a numpy array of size *25 x Len(S)*, which has the *one-hot encoding of the sequence*. \n",
    "\n",
    "I.e. For each amino acid s_i in the sequence, we put a 1.0 in the row corresponding to the index of that amino acid in the alphabet (see an alphabet example below), and we put 0.0 in every other row letter position. \n",
    "\n",
    "You can use this list as all possible Amino Acid letters: **['H','V','G','A','P','C','D','I','R','E','K','L','W','T','Y','S','Q','F','N','M','U','X','Z','B','O']**\n",
    "\n",
    "As another example, if S_0 is an 'H', the first column of our returned results has a 1.0 in row number 0 and, 0.0 in every other row. If it is a S_1 is a 'G', we put a 1.0 in row number 2, and a 0.0 in every other row. We continue for all values of our sequence. \n",
    "\n",
    "You can use the following function as a utility function:"
   ]
  },
  {
   "cell_type": "code",
   "execution_count": 3,
   "metadata": {
    "collapsed": true,
    "deletable": true,
    "editable": true
   },
   "outputs": [],
   "source": [
    "def set_alphabet_index():\n",
    "    alphabet_map = {}\n",
    "    for ix,letter in enumerate(['H','V','G','A','P','C','D','I','R','E','K','L','W','T','Y','S','Q','F','N','M','U','X','Z','B','O']):\n",
    "        alphabet_map[letter] = ix\n",
    "    return alphabet_map"
   ]
  },
  {
   "cell_type": "markdown",
   "metadata": {
    "deletable": true,
    "editable": true
   },
   "source": [
    "Now fill-in the below function to on-hot-encode your proteins."
   ]
  },
  {
   "cell_type": "code",
   "execution_count": 4,
   "metadata": {
    "collapsed": false,
    "deletable": true,
    "editable": true
   },
   "outputs": [],
   "source": [
    "def seqstring_to_seqbinary(seqarr, labelslist, max_len=500):\n",
    "    alphabet_map = set_alphabet_index()\n",
    "    labels_out = []\n",
    "    seq_alphabets = []\n",
    "    alphabet_len = len(alphabet_map.keys())\n",
    "    for ix, s in enumerate(seqarr):\n",
    "        if (len(s) > max_len):\n",
    "            s = s[0:max_len]\n",
    "        mat = np.zeros((max_len, alphabet_len), dtype=float)\n",
    "        mat[range(min(len(s),max_len)), [alphabet_map[c] for c in s]] = 1\n",
    "        seq_alphabets.append(mat)\n",
    "        labels_out.append(labelslist[ix])\n",
    "    return seq_alphabets, alphabet_map, labels_out"
   ]
  },
  {
   "cell_type": "markdown",
   "metadata": {
    "deletable": true,
    "editable": true
   },
   "source": [
    "**3.4) (5 points)** Now convert your data into train, test and validation set. Shuffle the rows, and and split them with ratios of (train:60%, valid:20%, test:20%).\n",
    "\n",
    "(hint: it's useful to set the random number seed before shuffling, so you get the same results over multiple runs)."
   ]
  },
  {
   "cell_type": "code",
   "execution_count": 5,
   "metadata": {
    "collapsed": false,
    "deletable": true,
    "editable": true
   },
   "outputs": [],
   "source": [
    "ix_all_shuffle = [[i] for i in range(len(datax))]\n",
    "import random\n",
    "random.shuffle(ix_all_shuffle)\n",
    "train_cutoff = int(0.6 * len(ix_all_shuffle))\n",
    "valid_cutoff = int(0.2 * len(ix_all_shuffle))\n",
    "ix_train = np.array(ix_all_shuffle[0:train_cutoff])\n",
    "ix_valid = np.array(ix_all_shuffle[train_cutoff:train_cutoff+valid_cutoff])\n",
    "ix_test = np.array(ix_all_shuffle[train_cutoff+valid_cutoff:])\n",
    "\n",
    "xtrain = datax[ix_train].ravel()\n",
    "ytrain = datayix[ix_train]\n",
    "xtest = datax[ix_test].ravel()\n",
    "ytest = datayix[ix_test]\n",
    "xvalid = datax[ix_valid].ravel()\n",
    "yvalid = datayix[ix_valid]"
   ]
  },
  {
   "cell_type": "markdown",
   "metadata": {
    "deletable": true,
    "editable": true
   },
   "source": [
    "**3.5) (5 points)** Now, convert your training, validation and test sequences to one-hot numpy arrays. \n",
    "Doing so in advance will save you computation time later. Also since we will be training a classifier, convert your one-hot label variables into the index. i.e. if your label is [0, 1, 0] convert it into [1]. If it is [0, 0, 1], convert it into [2]. (Hint: Use *numpy argmax* method if needed for fast implementation)."
   ]
  },
  {
   "cell_type": "code",
   "execution_count": 6,
   "metadata": {
    "collapsed": false,
    "deletable": true,
    "editable": true
   },
   "outputs": [
    {
     "name": "stdout",
     "output_type": "stream",
     "text": [
      "each train is of shape (protein length will vary), i.e. x[0]: (500, 25)  and y[0]: 1\n",
      "total dataset size: 70248\n"
     ]
    }
   ],
   "source": [
    "xtrain, _, ytrain = seqstring_to_seqbinary(xtrain, ytrain)\n",
    "ytrain = np.array([i.argmax() for i in ytrain])\n",
    "\n",
    "xvalid, _, yvalid = seqstring_to_seqbinary(xvalid, yvalid)\n",
    "yvalid = np.array([i.argmax() for i in yvalid])\n",
    "\n",
    "xtest, alphabet_map, ytest = seqstring_to_seqbinary(xtest, ytest)\n",
    "ytest = np.array([i.argmax() for i in ytest])\n",
    "\n",
    "print('each train is of shape (protein length will vary), i.e. x[0]:', xtrain[0].shape, ' and y[0]:',  ytrain[0])\n",
    "print('total dataset size:', len(xtrain))"
   ]
  },
  {
   "cell_type": "markdown",
   "metadata": {
    "collapsed": false,
    "deletable": true,
    "editable": true
   },
   "source": [
    "**3.6) (10 points + 5 bonus points) Now you are ready to build your sequence classification model! **\n",
    "\n",
    "\n",
    "First, build a Convolutional sequence classification model similar to the architecture in question 1, (deepbind paper). \n",
    "\n",
    "Use Convolution, negative log likelihood (NLL) loss, and (optional: any additions to your architecture!), to go from the one-hot sequence of size *25 x len(S)* to 3-class classifier. \n",
    "\n",
    "At each epoch, compute **Average NLL loss** and **one AUC score per class i.e. 3 AUC scores** on both **train and validation set** (hint: look at solutions to <a href=\"https://github.com/nyumc-dl/BMSC-GA-4493-Spring2018/blob/master/hw1/hw1-solutions.ipynb\">HW1</a> Q.4.2 for AUC and model details. Pytorch is very sensative to TensorTypes so you need to make sure you give the right data type and data shape, to Loss function and your model)\n",
    "\n",
    "Plot your validation and train loss over different epochs, and also print the AUCs on train and validation sets.\n",
    "\n",
    "\n",
    "**(Bonus 5 points) Switch everything to Cuda.**"
   ]
  },
  {
   "cell_type": "code",
   "execution_count": 8,
   "metadata": {
    "collapsed": false,
    "deletable": true,
    "editable": true
   },
   "outputs": [
    {
     "name": "stdout",
     "output_type": "stream",
     "text": [
      "ready\n"
     ]
    }
   ],
   "source": [
    "import torch\n",
    "import torch.autograd as autograd\n",
    "import torch.nn as nn\n",
    "from torch.nn import init\n",
    "import torch.nn.functional as F\n",
    "import torch.optim as optim\n",
    "torch.manual_seed(1)\n",
    "from sklearn.metrics import roc_auc_score\n",
    "\n",
    "def convert_cuda(obj):\n",
    "    if use_cuda:\n",
    "        if isinstance(obj, tuple):\n",
    "            return tuple(cuda(o) for o in obj)\n",
    "        elif isinstance(obj, list):\n",
    "            return list(cuda(o) for o in obj)\n",
    "        elif hasattr(obj, 'cuda'):\n",
    "            return obj.cuda()\n",
    "    return obj\n",
    "\n",
    "def init_weights(module):\n",
    "    for name, param in module.named_parameters():\n",
    "        if name.find('weight') != -1:\n",
    "            if len(param.size()) == 1:\n",
    "                init.uniform(param.data, 1)\n",
    "            else:\n",
    "                init.xavier_uniform(param.data)\n",
    "        elif name.find('bias') != -1:\n",
    "            init.constant(param.data, 0)\n",
    "\n",
    "def prepare_sequence_for_conv(seqList, bix):\n",
    "    batchNump = np.zeros((len(bix), seqList[0].shape[1], seqList[0].shape[0]), dtype=float);\n",
    "    for iix, i in enumerate(bix):\n",
    "        batchNump[iix] = seqList[i].transpose()\n",
    "    seqtensor = torch.from_numpy(batchNump).cuda() if use_cuda else torch.from_numpy(batchNump)\n",
    "    return autograd.Variable(seqtensor).float()\n",
    "\n",
    "class SimpleCONVNetClassifier(nn.Module):\n",
    "    def __init__(self, input_dim=25, kernels_level_1=64, kernels_level_2=64, output_dims=3, kernel_length=7, batchsize=16):\n",
    "        super(SimpleCONVNetClassifier, self).__init__()\n",
    "        #each data is now len of 500 - it has been padded if it is longer, and cropped if shorter.\n",
    "        self.convnet1 = nn.Conv2d(1, kernels_level_1, (input_dim, kernel_length), stride=1, padding=(0,int(kernel_length/2)), dilation=1, groups=1, bias=True)\n",
    "        self.pool1 = nn.MaxPool2d((1,kernels_level_2), stride=(1,3))\n",
    "        self.flatSize = 146*kernels_level_1 #146 comes from the original pad size:500, and the kernel and stride of two layers before it.\n",
    "        self.batchSize = batchsize\n",
    "        self.fc = nn.Linear(self.flatSize, output_dims)\n",
    "        self.softmax = nn.Softmax()\n",
    "        self.input_dim = input_dim\n",
    "\n",
    "    def forward(self, sequence):\n",
    "#         print(sequence.size())\n",
    "        out = self.convnet1(sequence.view(self.batchSize, 1, self.input_dim, -1))\n",
    "#         print(out.size())\n",
    "        out = F.relu(out)\n",
    "        out = self.pool1(out)\n",
    "        out = out.view(self.batchSize, self.flatSize)\n",
    "        out = self.fc(out)\n",
    "        out = self.softmax(out)\n",
    "#         print(out.size())\n",
    "        return out\n",
    "print('ready')"
   ]
  },
  {
   "cell_type": "code",
   "execution_count": 33,
   "metadata": {
    "collapsed": false,
    "deletable": true,
    "editable": true
   },
   "outputs": [],
   "source": [
    "batchsize = 64\n",
    "model = SimpleCONVNetClassifier(xtrain[0].shape[1], 16, 64, 3, 7, batchsize) \n",
    "loss_function = nn.CrossEntropyLoss()\n",
    "init_weights(model)\n",
    "\n",
    "use_cuda = 0\n",
    "if use_cuda:\n",
    "    model = model.cuda()\n",
    "    loss_function = loss_function.cuda()\n",
    "\n",
    "optimizer = optim.Adam(model.parameters(), lr=0.001)\n",
    "loss_list = []\n",
    "loss_eval_list = []"
   ]
  },
  {
   "cell_type": "code",
   "execution_count": 34,
   "metadata": {
    "collapsed": false,
    "deletable": true,
    "editable": true
   },
   "outputs": [
    {
     "name": "stdout",
     "output_type": "stream",
     "text": [
      "70248 70248\n",
      "(500, 25) 0\n",
      "(500, 25) 0\n"
     ]
    }
   ],
   "source": [
    "print(len(xtrain), len(ytrain))\n",
    "print(xtrain[0].shape, ytrain[0])\n",
    "print(xtrain[10].shape, ytrain[10])"
   ]
  },
  {
   "cell_type": "code",
   "execution_count": 35,
   "metadata": {
    "collapsed": false,
    "deletable": true,
    "editable": true,
    "scrolled": false
   },
   "outputs": [
    {
     "name": "stdout",
     "output_type": "stream",
     "text": [
      "-----epoch: 0 -----\n",
      "Training: going over training data of size: 70248  in batches of size: 64\n",
      "total batches: 1097\n",
      "0 batches done. Average train loss so far: 1.10693\n",
      "100 batches done. Average train loss so far: 1.07919\n",
      "200 batches done. Average train loss so far: 1.0619\n",
      "300 batches done. Average train loss so far: 1.03897\n",
      "400 batches done. Average train loss so far: 1.01733\n",
      "500 batches done. Average train loss so far: 0.997136\n",
      "600 batches done. Average train loss so far: 0.979767\n",
      "700 batches done. Average train loss so far: 0.964664\n",
      "800 batches done. Average train loss so far: 0.951146\n",
      "900 batches done. Average train loss so far: 0.939713\n",
      "1000 batches done. Average train loss so far: 0.930021\n",
      "Average train loss: 0.921419\n",
      "AUC train [0] is: 0.806856826884\n",
      "AUC train [1] is: 0.798563468453\n",
      "AUC train [2] is: 0.785699589286\n",
      "---validating---\n",
      "Average valid loss: 0.826373\n",
      "AUC valid [0] is: 0.86207994246\n",
      "AUC valid [1] is: 0.877943025809\n",
      "AUC valid [2] is: 0.858739367313\n",
      "-----epoch: 1 -----\n",
      "Training: going over training data of size: 70248  in batches of size: 64\n",
      "total batches: 1097\n",
      "0 batches done. Average train loss so far: 0.888004\n",
      "100 batches done. Average train loss so far: 0.816587\n",
      "200 batches done. Average train loss so far: 0.814273\n",
      "300 batches done. Average train loss so far: 0.810099\n",
      "400 batches done. Average train loss so far: 0.807804\n",
      "500 batches done. Average train loss so far: 0.80652\n",
      "600 batches done. Average train loss so far: 0.804082\n",
      "700 batches done. Average train loss so far: 0.801215\n",
      "800 batches done. Average train loss so far: 0.799931\n",
      "900 batches done. Average train loss so far: 0.799514\n",
      "1000 batches done. Average train loss so far: 0.798137\n",
      "Average train loss: 0.796565\n",
      "AUC train [0] is: 0.881794252979\n",
      "AUC train [1] is: 0.891636604564\n",
      "AUC train [2] is: 0.874782269097\n",
      "---validating---\n",
      "Average valid loss: 0.792109\n",
      "AUC valid [0] is: 0.878062581314\n",
      "AUC valid [1] is: 0.89254297759\n",
      "AUC valid [2] is: 0.874779913571\n",
      "-----epoch: 2 -----\n",
      "Training: going over training data of size: 70248  in batches of size: 64\n",
      "total batches: 1097\n",
      "0 batches done. Average train loss so far: 0.802063\n",
      "100 batches done. Average train loss so far: 0.771859\n",
      "200 batches done. Average train loss so far: 0.768892\n",
      "300 batches done. Average train loss so far: 0.769167\n",
      "400 batches done. Average train loss so far: 0.769635\n",
      "500 batches done. Average train loss so far: 0.769022\n",
      "600 batches done. Average train loss so far: 0.767324\n",
      "700 batches done. Average train loss so far: 0.765525\n",
      "800 batches done. Average train loss so far: 0.765673\n",
      "900 batches done. Average train loss so far: 0.765102\n",
      "1000 batches done. Average train loss so far: 0.764199\n",
      "Average train loss: 0.763448\n",
      "AUC train [0] is: 0.894713879266\n",
      "AUC train [1] is: 0.903249062508\n",
      "AUC train [2] is: 0.887040562983\n",
      "---validating---\n",
      "Average valid loss: 0.758236\n",
      "AUC valid [0] is: 0.891876178322\n",
      "AUC valid [1] is: 0.902288747008\n",
      "AUC valid [2] is: 0.886064357024\n",
      "-----epoch: 3 -----\n",
      "Training: going over training data of size: 70248  in batches of size: 64\n",
      "total batches: 1097\n",
      "0 batches done. Average train loss so far: 0.785976\n",
      "100 batches done. Average train loss so far: 0.743085\n",
      "200 batches done. Average train loss so far: 0.74533\n",
      "300 batches done. Average train loss so far: 0.746124\n",
      "400 batches done. Average train loss so far: 0.74769\n",
      "500 batches done. Average train loss so far: 0.747481\n",
      "600 batches done. Average train loss so far: 0.746491\n",
      "700 batches done. Average train loss so far: 0.746236\n",
      "800 batches done. Average train loss so far: 0.745406\n",
      "900 batches done. Average train loss so far: 0.744704\n",
      "1000 batches done. Average train loss so far: 0.744007\n",
      "Average train loss: 0.743889\n",
      "AUC train [0] is: 0.899901400788\n",
      "AUC train [1] is: 0.907558382364\n",
      "AUC train [2] is: 0.891804973051\n",
      "---validating---\n",
      "Average valid loss: 0.746725\n",
      "AUC valid [0] is: 0.893073266915\n",
      "AUC valid [1] is: 0.902659430696\n",
      "AUC valid [2] is: 0.887922890228\n",
      "-----epoch: 4 -----\n",
      "Training: going over training data of size: 70248  in batches of size: 64\n",
      "total batches: 1097\n",
      "0 batches done. Average train loss so far: 0.823455\n",
      "100 batches done. Average train loss so far: 0.725863\n",
      "200 batches done. Average train loss so far: 0.72931\n",
      "300 batches done. Average train loss so far: 0.730056\n",
      "400 batches done. Average train loss so far: 0.730745\n",
      "500 batches done. Average train loss so far: 0.730769\n",
      "600 batches done. Average train loss so far: 0.732056\n",
      "700 batches done. Average train loss so far: 0.732344\n",
      "800 batches done. Average train loss so far: 0.732476\n",
      "900 batches done. Average train loss so far: 0.732702\n",
      "1000 batches done. Average train loss so far: 0.732021\n",
      "Average train loss: 0.731928\n",
      "AUC train [0] is: 0.902438830196\n",
      "AUC train [1] is: 0.909025049991\n",
      "AUC train [2] is: 0.894680995365\n",
      "---validating---\n",
      "Average valid loss: 0.750247\n",
      "AUC valid [0] is: 0.892725075831\n",
      "AUC valid [1] is: 0.901136508318\n",
      "AUC valid [2] is: 0.887629288159\n",
      "-----epoch: 5 -----\n",
      "Training: going over training data of size: 70248  in batches of size: 64\n",
      "total batches: 1097\n",
      "0 batches done. Average train loss so far: 0.66031\n",
      "100 batches done. Average train loss so far: 0.728053\n",
      "200 batches done. Average train loss so far: 0.72478\n",
      "300 batches done. Average train loss so far: 0.725205\n",
      "400 batches done. Average train loss so far: 0.726113\n",
      "500 batches done. Average train loss so far: 0.725243\n",
      "600 batches done. Average train loss so far: 0.724498\n",
      "700 batches done. Average train loss so far: 0.723366\n",
      "800 batches done. Average train loss so far: 0.723565\n",
      "900 batches done. Average train loss so far: 0.723634\n",
      "1000 batches done. Average train loss so far: 0.72302\n",
      "Average train loss: 0.723007\n",
      "AUC train [0] is: 0.904337152932\n",
      "AUC train [1] is: 0.909420548138\n",
      "AUC train [2] is: 0.897719908369\n",
      "---validating---\n",
      "Average valid loss: 0.735822\n",
      "AUC valid [0] is: 0.895104145923\n",
      "AUC valid [1] is: 0.903667150448\n",
      "AUC valid [2] is: 0.890421720599\n",
      "-----epoch: 6 -----\n",
      "Training: going over training data of size: 70248  in batches of size: 64\n",
      "total batches: 1097\n",
      "0 batches done. Average train loss so far: 0.685371\n",
      "100 batches done. Average train loss so far: 0.718541\n",
      "200 batches done. Average train loss so far: 0.716252\n",
      "300 batches done. Average train loss so far: 0.715217\n",
      "400 batches done. Average train loss so far: 0.715847\n",
      "500 batches done. Average train loss so far: 0.715709\n",
      "600 batches done. Average train loss so far: 0.716441\n",
      "700 batches done. Average train loss so far: 0.717021\n",
      "800 batches done. Average train loss so far: 0.717422\n",
      "900 batches done. Average train loss so far: 0.717024\n",
      "1000 batches done. Average train loss so far: 0.717316\n",
      "Average train loss: 0.717601\n",
      "AUC train [0] is: 0.904632818724\n",
      "AUC train [1] is: 0.909306298719\n",
      "AUC train [2] is: 0.899563212949\n",
      "---validating---\n",
      "Average valid loss: 0.728862\n",
      "AUC valid [0] is: 0.894099066821\n",
      "AUC valid [1] is: 0.902360390978\n",
      "AUC valid [2] is: 0.88945481943\n",
      "-----epoch: 7 -----\n",
      "Training: going over training data of size: 70248  in batches of size: 64\n",
      "total batches: 1097\n",
      "0 batches done. Average train loss so far: 0.766063\n",
      "100 batches done. Average train loss so far: 0.707219\n",
      "200 batches done. Average train loss so far: 0.711703\n",
      "300 batches done. Average train loss so far: 0.711066\n",
      "400 batches done. Average train loss so far: 0.712146\n",
      "500 batches done. Average train loss so far: 0.710348\n",
      "600 batches done. Average train loss so far: 0.710883\n",
      "700 batches done. Average train loss so far: 0.711337\n",
      "800 batches done. Average train loss so far: 0.710856\n",
      "900 batches done. Average train loss so far: 0.711573\n",
      "1000 batches done. Average train loss so far: 0.711679\n",
      "Average train loss: 0.712105\n",
      "AUC train [0] is: 0.904796789319\n",
      "AUC train [1] is: 0.910117889767\n",
      "AUC train [2] is: 0.900289918737\n",
      "---validating---\n",
      "Average valid loss: 0.726412\n",
      "AUC valid [0] is: 0.894006937937\n",
      "AUC valid [1] is: 0.901499181739\n",
      "AUC valid [2] is: 0.889917699237\n",
      "-----epoch: 8 -----\n",
      "Training: going over training data of size: 70248  in batches of size: 64\n",
      "total batches: 1097\n",
      "0 batches done. Average train loss so far: 0.683554\n",
      "100 batches done. Average train loss so far: 0.704041\n",
      "200 batches done. Average train loss so far: 0.70655\n",
      "300 batches done. Average train loss so far: 0.706963\n",
      "400 batches done. Average train loss so far: 0.70755\n",
      "500 batches done. Average train loss so far: 0.709294\n",
      "600 batches done. Average train loss so far: 0.708674\n",
      "700 batches done. Average train loss so far: 0.708441\n",
      "800 batches done. Average train loss so far: 0.708828\n",
      "900 batches done. Average train loss so far: 0.709218\n",
      "1000 batches done. Average train loss so far: 0.708777\n",
      "Average train loss: 0.708587\n",
      "AUC train [0] is: 0.905564106324\n",
      "AUC train [1] is: 0.909708399806\n",
      "AUC train [2] is: 0.900686939669\n",
      "---validating---\n",
      "Average valid loss: 0.722952\n",
      "AUC valid [0] is: 0.893915209215\n",
      "AUC valid [1] is: 0.901995233583\n",
      "AUC valid [2] is: 0.890877057716\n",
      "-----epoch: 9 -----\n",
      "Training: going over training data of size: 70248  in batches of size: 64\n",
      "total batches: 1097\n",
      "0 batches done. Average train loss so far: 0.712651\n",
      "100 batches done. Average train loss so far: 0.704251\n",
      "200 batches done. Average train loss so far: 0.708028\n",
      "300 batches done. Average train loss so far: 0.707133\n",
      "400 batches done. Average train loss so far: 0.707136\n",
      "500 batches done. Average train loss so far: 0.705952\n",
      "600 batches done. Average train loss so far: 0.70676\n",
      "700 batches done. Average train loss so far: 0.705941\n",
      "800 batches done. Average train loss so far: 0.705156\n",
      "900 batches done. Average train loss so far: 0.704661\n",
      "1000 batches done. Average train loss so far: 0.705483\n",
      "Average train loss: 0.705542\n",
      "AUC train [0] is: 0.905492346122\n",
      "AUC train [1] is: 0.910457537671\n",
      "AUC train [2] is: 0.900674262702\n",
      "---validating---\n",
      "Average valid loss: 0.72083\n",
      "AUC valid [0] is: 0.893899713391\n",
      "AUC valid [1] is: 0.901699601087\n",
      "AUC valid [2] is: 0.890037691532\n"
     ]
    }
   ],
   "source": [
    "plot_loss_train, plot_auc_0_train, plot_auc_1_train, plot_auc_2_train = [], [], [], []\n",
    "plot_loss_valid, plot_auc_0_valid, plot_auc_1_valid, plot_auc_2_valid = [], [], [], []\n",
    "\n",
    "for epoch in range(10):\n",
    "    print('-----epoch:', epoch, '-----')\n",
    "    print('Training: going over training data of size:', len(xtrain), ' in batches of size:', batchsize)\n",
    "    model.train()\n",
    "    avgLossTrain = []\n",
    "    avgLossValid = []\n",
    "    ix_shuffle = np.arange(len(xtrain))\n",
    "    np.random.shuffle(ix_shuffle)\n",
    "    ypred =  np.zeros((len(ytrain), 3))\n",
    "    batch_i = []\n",
    "    batches = []\n",
    "    for ix in ix_shuffle:\n",
    "        batch_i.append(ix)\n",
    "        if len(batch_i) == batchsize:\n",
    "            batches.append(batch_i)\n",
    "            batch_i = []   \n",
    "    print('total batches:', len(batches))\n",
    "    for ib, bix in enumerate(batches):\n",
    "        model.zero_grad() \n",
    "        modelout = model(prepare_sequence_for_conv(xtrain, bix))\n",
    "        if use_cuda:\n",
    "            targets = torch.LongTensor(torch.from_numpy(ytrain[bix].astype(np.int64))).cuda()\n",
    "        else:\n",
    "            targets = torch.LongTensor(torch.from_numpy(ytrain[bix].astype(np.int64)))\n",
    "        targets = autograd.Variable(targets)\n",
    "#         print(targets.size())\n",
    "        loss = loss_function(modelout, targets)  \n",
    "        loss.backward()\n",
    "        ypred[bix, :] = modelout.data.numpy()\n",
    "        if use_cuda:\n",
    "            avgLossTrain.append(loss.cpu().data.numpy())\n",
    "        else:\n",
    "            avgLossTrain.append(loss.data.numpy())\n",
    "        optimizer.step()\n",
    "        if ib % 100 == 0:\n",
    "            print(ib, 'batches done. Average train loss so far:', np.array(avgLossTrain).mean())\n",
    "    mean_loss_train = np.array(avgLossTrain).mean()\n",
    "    print('Average train loss:', mean_loss_train)\n",
    "    auc_0 = roc_auc_score(y_true=(ytrain==0), y_score=ypred[:,0])\n",
    "    auc_1 = roc_auc_score(y_true=(ytrain==1), y_score=ypred[:,1])\n",
    "    auc_2 = roc_auc_score(y_true=(ytrain==2), y_score=ypred[:,2])\n",
    "    print('AUC train [0] is:', auc_0)\n",
    "    print('AUC train [1] is:', auc_1)\n",
    "    print('AUC train [2] is:', auc_2)\n",
    "    plot_loss_train.append(mean_loss_train)\n",
    "    plot_auc_0_train.append(auc_0)\n",
    "    plot_auc_1_train.append(auc_1)\n",
    "    plot_auc_2_train.append(auc_2) \n",
    "    print('---validating---')\n",
    "    ypredvalid = np.zeros((len(yvalid), 3))\n",
    "    model.eval()\n",
    "    batches = []\n",
    "    batch_i = []\n",
    "    for ix in range(len(xvalid)):\n",
    "        batch_i.append(ix)\n",
    "        if len(batch_i) == batchsize:\n",
    "            batches.append(batch_i)\n",
    "            batch_i = []\n",
    "    for ib, bix in enumerate(batches):\n",
    "        modelout = model(prepare_sequence_for_conv(xvalid, bix))\n",
    "        if use_cuda:\n",
    "            targets = torch.LongTensor(torch.from_numpy(yvalid[bix].astype(np.int64))).cuda()\n",
    "        else:\n",
    "            targets = torch.LongTensor(torch.from_numpy(yvalid[bix].astype(np.int64)))\n",
    "        targets = autograd.Variable(targets)\n",
    "        ypredvalid[bix,:] = modelout.data.numpy()\n",
    "        loss = loss_function(modelout, targets)  \n",
    "        avgLossValid.append(loss.data.numpy())\n",
    "    mean_loss_valid = np.array(avgLossValid).mean()\n",
    "    print('Average valid loss:', mean_loss_valid)\n",
    "    auc_0 = roc_auc_score(y_true=(yvalid==0), y_score=ypredvalid[:,0])\n",
    "    auc_1 = roc_auc_score(y_true=(yvalid==1), y_score=ypredvalid[:,1])\n",
    "    auc_2 = roc_auc_score(y_true=(yvalid==2), y_score=ypredvalid[:,2])\n",
    "    print('AUC valid [0] is:', auc_0)\n",
    "    print('AUC valid [1] is:', auc_1)\n",
    "    print('AUC valid [2] is:', auc_2)\n",
    "    plot_loss_valid.append(mean_loss_valid)\n",
    "    plot_auc_0_valid.append(auc_0)\n",
    "    plot_auc_1_valid.append(auc_1)\n",
    "    plot_auc_2_valid.append(auc_2)\n",
    "    "
   ]
  },
  {
   "cell_type": "code",
   "execution_count": 36,
   "metadata": {
    "collapsed": false,
    "deletable": true,
    "editable": true
   },
   "outputs": [
    {
     "data": {
      "image/png": "[encoded data removed]",
      "text/plain": [
       "<matplotlib.figure.Figure at 0x2abe9f0a7710>"
      ]
     },
     "metadata": {},
     "output_type": "display_data"
    }
   ],
   "source": [
    "plt.plot(plot_loss_train, label='mean loss train')\n",
    "plt.plot(plot_loss_valid, label='mean loss valid')\n",
    "plt.legend()\n",
    "plt.show()"
   ]
  },
  {
   "cell_type": "code",
   "execution_count": 37,
   "metadata": {
    "collapsed": false,
    "deletable": true,
    "editable": true
   },
   "outputs": [
    {
     "data": {
      "image/png": "[encoded data removed]",
      "text/plain": [
       "<matplotlib.figure.Figure at 0x2abe9edb2a58>"
      ]
     },
     "metadata": {},
     "output_type": "display_data"
    }
   ],
   "source": [
    "plt.plot(plot_auc_0_train, label='auc class 0 train')\n",
    "plt.plot(plot_auc_1_train, label='auc class 1 train')\n",
    "plt.plot(plot_auc_2_train, label='auc class 2 train')\n",
    "plt.plot(plot_auc_0_valid, label='auc class 0 valid')\n",
    "plt.plot(plot_auc_1_valid, label='auc class 1 valid')\n",
    "plt.plot(plot_auc_2_valid, label='auc class 2 valid')\n",
    "plt.legend()\n",
    "plt.show()"
   ]
  },
  {
   "cell_type": "markdown",
   "metadata": {
    "collapsed": false,
    "deletable": true,
    "editable": true
   },
   "source": [
    "**3.7) (5 points) ** The benefit of convolutional sequence model is that they are easier to interpret later. \n",
    "Use matplotlib and plt.imshow(), to visualize the filters of the first layer convolution that you have: \n",
    "\n",
    "(hint: an example, if the model is named model and the first layer of convolution is accessible via model.convnet1, the following code can give you those filters):\n",
    "kernels = [k[0].data.numpy() for k in model.convnet1.weight])\n",
    "\n",
    "**Note: It's ok if your model didn't converge at all. Just show the visualizations!**"
   ]
  },
  {
   "cell_type": "code",
   "execution_count": 38,
   "metadata": {
    "collapsed": false,
    "deletable": true,
    "editable": true,
    "scrolled": false
   },
   "outputs": [
    {
     "data": {
      "image/png": "[encoded data removed]",
      "text/plain": [
       "<matplotlib.figure.Figure at 0x2abe9ebbbef0>"
      ]
     },
     "metadata": {},
     "output_type": "display_data"
    },
    {
     "data": {
      "image/png": "[encoded data removed]",
      "text/plain": [
       "<matplotlib.figure.Figure at 0x2abe9efc09b0>"
      ]
     },
     "metadata": {},
     "output_type": "display_data"
    },
    {
     "data": {
      "image/png": "[encoded data removed]",
      "text/plain": [
       "<matplotlib.figure.Figure at 0x2abe9ef37550>"
      ]
     },
     "metadata": {},
     "output_type": "display_data"
    },
    {
     "data": {
      "image/png": "[encoded data removed]",
      "text/plain": [
       "<matplotlib.figure.Figure at 0x2abe9ee80fd0>"
      ]
     },
     "metadata": {},
     "output_type": "display_data"
    },
    {
     "data": {
      "image/png": "[encoded data removed]",
      "text/plain": [
       "<matplotlib.figure.Figure at 0x2abe9ec6dc50>"
      ]
     },
     "metadata": {},
     "output_type": "display_data"
    },
    {
     "data": {
      "image/png": "[encoded data removed]",
      "text/plain": [
       "<matplotlib.figure.Figure at 0x2abe9eda4c50>"
      ]
     },
     "metadata": {},
     "output_type": "display_data"
    },
    {
     "data": {
      "image/png": "[encoded data removed]",
      "text/plain": [
       "<matplotlib.figure.Figure at 0x2abe9ecacd30>"
      ]
     },
     "metadata": {},
     "output_type": "display_data"
    },
    {
     "data": {
      "image/png": "[encoded data removed]",
      "text/plain": [
       "<matplotlib.figure.Figure at 0x2abe9eb87978>"
      ]
     },
     "metadata": {},
     "output_type": "display_data"
    },
    {
     "data": {
      "image/png": "[encoded data removed]",
      "text/plain": [
       "<matplotlib.figure.Figure at 0x2abe9eba9240>"
      ]
     },
     "metadata": {},
     "output_type": "display_data"
    },
    {
     "data": {
      "image/png": "[encoded data removed]",
      "text/plain": [
       "<matplotlib.figure.Figure at 0x2abe9f8cfc50>"
      ]
     },
     "metadata": {},
     "output_type": "display_data"
    },
    {
     "data": {
      "image/png": "[encoded data removed]",
      "text/plain": [
       "<matplotlib.figure.Figure at 0x2abe9eb87a58>"
      ]
     },
     "metadata": {},
     "output_type": "display_data"
    },
    {
     "data": {
      "image/png": "[encoded data removed]",
      "text/plain": [
       "<matplotlib.figure.Figure at 0x2abe9ecac320>"
      ]
     },
     "metadata": {},
     "output_type": "display_data"
    },
    {
     "data": {
      "image/png": "[encoded data removed]",
      "text/plain": [
       "<matplotlib.figure.Figure at 0x2abe9f8a50b8>"
      ]
     },
     "metadata": {},
     "output_type": "display_data"
    },
    {
     "data": {
      "image/png": "[encoded data removed]",
      "text/plain": [
       "<matplotlib.figure.Figure at 0x2abe9eb7f828>"
      ]
     },
     "metadata": {},
     "output_type": "display_data"
    },
    {
     "data": {
      "image/png": "[encoded data removed]",
      "text/plain": [
       "<matplotlib.figure.Figure at 0x2abe9efc2ba8>"
      ]
     },
     "metadata": {},
     "output_type": "display_data"
    },
    {
     "data": {
      "image/png": "[encoded data removed]",
      "text/plain": [
       "<matplotlib.figure.Figure at 0x2abe9eefdcc0>"
      ]
     },
     "metadata": {},
     "output_type": "display_data"
    }
   ],
   "source": [
    "kernels = [k[0].data.numpy() for k in model.convnet1.weight]\n",
    "for i in range(0, len(kernels)):\n",
    "    plt.imshow(kernels[i]); plt.colorbar(); plt.show()"
   ]
  },
  {
   "cell_type": "markdown",
   "metadata": {
    "collapsed": false,
    "deletable": true,
    "editable": true
   },
   "source": [
    "**3.8)(10 points)** Now, provide a second sequence classification model based on LSTMs. Build a simple LSTM model that takes as input the (25 x Len(s)) array, and ends with a softmax over 3 classees. \n",
    "\n",
    "The rest of your experimental setting should be the same as section 3.6. \n",
    "\n",
    "At each epoch, compute Average NLL loss and one AUC score per class i.e. 3 AUC scores on both train and validation set (hint: look at solutions to HW1 Q.4.2 for AUC and model details.)\n",
    "\n",
    "Plot your validation and train loss over different epochs, and also print the AUCs on train and validation sets.\n",
    "\n",
    "NOTE: At some point in your back-propagation, you may get an error which needs you to set a parameter retain_graph to be true, to solve. Advance warnings if you encounter that, and your solution will be: loss.backward(retain_graph=True)"
   ]
  },
  {
   "cell_type": "code",
   "execution_count": 7,
   "metadata": {
    "collapsed": false,
    "deletable": true,
    "editable": true
   },
   "outputs": [
    {
     "name": "stdout",
     "output_type": "stream",
     "text": [
      "ready\n"
     ]
    }
   ],
   "source": [
    "import torch\n",
    "import torch.autograd as autograd\n",
    "import torch.nn as nn\n",
    "import torch.nn.functional as F\n",
    "from torch.nn import init\n",
    "import torch.optim as optim\n",
    "torch.manual_seed(1)\n",
    "use_cuda = 0\n",
    "from sklearn.metrics import roc_auc_score\n",
    "\n",
    "def convert_cuda(obj):\n",
    "    if use_cuda:\n",
    "        if isinstance(obj, tuple):\n",
    "            return tuple(cuda(o) for o in obj)\n",
    "        elif isinstance(obj, list):\n",
    "            return list(cuda(o) for o in obj)\n",
    "        elif hasattr(obj, 'cuda'):\n",
    "            return obj.cuda()\n",
    "    return obj\n",
    "\n",
    "def init_weights(module):\n",
    "    for name, param in module.named_parameters():\n",
    "        if name.find('weight') != -1:\n",
    "            if len(param.size()) == 1:\n",
    "                init.uniform(param.data, 1)\n",
    "            else:\n",
    "                init.xavier_uniform(param.data)\n",
    "        elif name.find('bias') != -1:\n",
    "            init.constant(param.data, 0)\n",
    "\n",
    "def prepare_sequence_for_lstm(seqList, bix):\n",
    "    batchNump = np.zeros((seqList[0].shape[0], len(bix), seqList[0].shape[1]), dtype=float);\n",
    "    for iix, i in enumerate(bix):\n",
    "        batchNump[:,iix,:] = seqList[i]\n",
    "    seqtensor = torch.from_numpy(batchNump).cuda() if use_cuda else torch.from_numpy(batchNump)\n",
    "    return autograd.Variable(seqtensor).float()\n",
    "\n",
    "class SimpleLSTMClassifier(nn.Module):\n",
    "    def __init__(self, input_dim=25, hidden_dim=32, output_dims=3, batchsize=16):\n",
    "        super(SimpleLSTMClassifier, self).__init__()\n",
    "        self.hidden_dim = hidden_dim\n",
    "        self.input_dim = input_dim\n",
    "        self.batchsize = batchsize\n",
    "        self.lstm = nn.LSTM(input_size=input_dim, hidden_size=hidden_dim)\n",
    "        self.hidden = self.init_hidden()\n",
    "        self.fc = nn.Linear(hidden_dim, output_dims)\n",
    "        self.flatSize = self.hidden_dim\n",
    "        self.softmax = nn.Softmax()\n",
    "\n",
    "    def init_hidden(self):\n",
    "        if use_cuda:\n",
    "            return autograd.Variable(torch.zeros(1, self.batchsize, self.hidden_dim).cuda()), autograd.Variable(torch.zeros( 1, self.batchsize, self.hidden_dim).cuda())\n",
    "        else:\n",
    "            return autograd.Variable(torch.zeros(1, self.batchsize, self.hidden_dim)), autograd.Variable(torch.zeros( 1, self.batchsize, self.hidden_dim))\n",
    "\n",
    "    def forward(self, sequence):\n",
    "#         print(sequence.size())\n",
    "        lstm_out, self.hidden_out = self.lstm(sequence, self.hidden)\n",
    "#         print(lstm_out.size())\n",
    "#         out = F.relu(self.hidden_out[-1])\n",
    "        out = F.relu(lstm_out[-1])\n",
    "#         print(out.size())\n",
    "        out = out.view(self.batchsize, self.flatSize)\n",
    "        out = self.fc(out)\n",
    "        out = self.softmax(out)\n",
    "        return out\n",
    "    \n",
    "print('ready')\n"
   ]
  },
  {
   "cell_type": "code",
   "execution_count": 8,
   "metadata": {
    "collapsed": false,
    "deletable": true,
    "editable": true
   },
   "outputs": [],
   "source": [
    "batchsize = 64\n",
    "model2 = SimpleLSTMClassifier(input_dim=25, hidden_dim=64, output_dims=3, batchsize=batchsize)  #Input dim is 25 - the alphabet, output dim is 3 \n",
    "loss_function = nn.CrossEntropyLoss()\n",
    "init_weights(model2)\n",
    "\n",
    "use_cuda = 0\n",
    "if use_cuda:\n",
    "    model2 = model2.cuda()\n",
    "    loss_function = loss_function.cuda()\n",
    "\n",
    "optimizer = optim.Adam(model2.parameters(), lr=0.01)\n"
   ]
  },
  {
   "cell_type": "code",
   "execution_count": 9,
   "metadata": {
    "collapsed": false,
    "deletable": true,
    "editable": true,
    "scrolled": true
   },
   "outputs": [
    {
     "name": "stdout",
     "output_type": "stream",
     "text": [
      "-----epoch: 0 -----\n",
      "Training: going over training data of size: 70248  in batches of size: 64\n",
      "total batches: 1097\n",
      "0 batches done. Average train loss so far: 1.09827\n",
      "100 batches done. Average train loss so far: 1.08635\n",
      "200 batches done. Average train loss so far: 1.08627\n",
      "300 batches done. Average train loss so far: 1.08569\n",
      "400 batches done. Average train loss so far: 1.08404\n",
      "500 batches done. Average train loss so far: 1.08281\n",
      "600 batches done. Average train loss so far: 1.0825\n",
      "700 batches done. Average train loss so far: 1.08179\n",
      "800 batches done. Average train loss so far: 1.08099\n",
      "900 batches done. Average train loss so far: 1.07995\n",
      "1000 batches done. Average train loss so far: 1.07915\n",
      "Average train loss: 1.07813\n",
      "AUC train [0] is: 0.533720466631\n",
      "AUC train [1] is: 0.534587984005\n",
      "AUC train [2] is: 0.533172489539\n",
      "---validating---\n",
      "Average valid loss: 1.0692\n",
      "AUC valid [0] is: 0.551902324481\n",
      "AUC valid [1] is: 0.562140852254\n",
      "AUC valid [2] is: 0.538557589366\n",
      "-----epoch: 1 -----\n",
      "Training: going over training data of size: 70248  in batches of size: 64\n",
      "total batches: 1097\n",
      "0 batches done. Average train loss so far: 1.073\n",
      "100 batches done. Average train loss so far: 1.06605\n",
      "200 batches done. Average train loss so far: 1.06431\n",
      "300 batches done. Average train loss so far: 1.0634\n",
      "400 batches done. Average train loss so far: 1.06349\n",
      "500 batches done. Average train loss so far: 1.06285\n",
      "600 batches done. Average train loss so far: 1.06249\n",
      "700 batches done. Average train loss so far: 1.0625\n",
      "800 batches done. Average train loss so far: 1.06228\n",
      "900 batches done. Average train loss so far: 1.06181\n",
      "1000 batches done. Average train loss so far: 1.06165\n",
      "Average train loss: 1.06407\n",
      "AUC train [0] is: 0.563852549544\n",
      "AUC train [1] is: 0.561454345417\n",
      "AUC train [2] is: 0.558166353225\n",
      "---validating---\n",
      "Average valid loss: 1.12513\n",
      "AUC valid [0] is: 0.506385800799\n",
      "AUC valid [1] is: 0.492751161824\n",
      "AUC valid [2] is: 0.513583831757\n",
      "-----epoch: 2 -----\n",
      "Training: going over training data of size: 70248  in batches of size: 64\n",
      "total batches: 1097\n",
      "0 batches done. Average train loss so far: 1.12375\n",
      "100 batches done. Average train loss so far: 1.09447\n",
      "200 batches done. Average train loss so far: 1.09023\n",
      "300 batches done. Average train loss so far: 1.0899\n",
      "400 batches done. Average train loss so far: 1.08935\n",
      "500 batches done. Average train loss so far: 1.08849\n",
      "600 batches done. Average train loss so far: 1.08823\n",
      "700 batches done. Average train loss so far: 1.08738\n",
      "800 batches done. Average train loss so far: 1.08693\n",
      "900 batches done. Average train loss so far: 1.08667\n",
      "1000 batches done. Average train loss so far: 1.08641\n",
      "Average train loss: 1.08645\n",
      "AUC train [0] is: 0.532801650329\n",
      "AUC train [1] is: 0.529316775102\n",
      "AUC train [2] is: 0.533348888122\n",
      "---validating---\n",
      "Average valid loss: 1.08666\n",
      "AUC valid [0] is: 0.528952647381\n",
      "AUC valid [1] is: 0.51915425341\n",
      "AUC valid [2] is: 0.542753271928\n",
      "-----epoch: 3 -----\n",
      "Training: going over training data of size: 70248  in batches of size: 64\n",
      "total batches: 1097\n",
      "0 batches done. Average train loss so far: 1.10558\n",
      "100 batches done. Average train loss so far: 1.08133\n",
      "200 batches done. Average train loss so far: 1.08065\n",
      "300 batches done. Average train loss so far: 1.08169\n",
      "400 batches done. Average train loss so far: 1.08144\n",
      "500 batches done. Average train loss so far: 1.08198\n",
      "600 batches done. Average train loss so far: 1.08234\n",
      "700 batches done. Average train loss so far: 1.08174\n",
      "800 batches done. Average train loss so far: 1.08223\n",
      "900 batches done. Average train loss so far: 1.08192\n",
      "1000 batches done. Average train loss so far: 1.08194\n",
      "Average train loss: 1.08199\n",
      "AUC train [0] is: 0.542611218984\n",
      "AUC train [1] is: 0.539539663898\n",
      "AUC train [2] is: 0.548592611365\n",
      "---validating---\n",
      "Average valid loss: 1.08297\n",
      "AUC valid [0] is: 0.547858691931\n",
      "AUC valid [1] is: 0.537337603872\n",
      "AUC valid [2] is: 0.542111377467\n",
      "-----epoch: 4 -----\n",
      "Training: going over training data of size: 70248  in batches of size: 64\n",
      "total batches: 1097\n",
      "0 batches done. Average train loss so far: 1.09293\n",
      "100 batches done. Average train loss so far: 1.08155\n",
      "200 batches done. Average train loss so far: 1.08195\n",
      "300 batches done. Average train loss so far: 1.08052\n",
      "400 batches done. Average train loss so far: 1.08029\n",
      "500 batches done. Average train loss so far: 1.081\n",
      "600 batches done. Average train loss so far: 1.08136\n",
      "700 batches done. Average train loss so far: 1.08122\n",
      "800 batches done. Average train loss so far: 1.08118\n",
      "900 batches done. Average train loss so far: 1.08054\n",
      "1000 batches done. Average train loss so far: 1.08079\n",
      "Average train loss: 1.08063\n",
      "AUC train [0] is: 0.548044129367\n",
      "AUC train [1] is: 0.542880846906\n",
      "AUC train [2] is: 0.548936896669\n",
      "---validating---\n",
      "Average valid loss: 1.08225\n",
      "AUC valid [0] is: 0.550183933416\n",
      "AUC valid [1] is: 0.537016233132\n",
      "AUC valid [2] is: 0.553724640194\n"
     ]
    }
   ],
   "source": [
    "plot_loss_train_lstm, plot_auc_0_train_lstm, plot_auc_1_train_lstm, plot_auc_2_train_lstm = [], [], [], []\n",
    "plot_loss_valid_lstm, plot_auc_0_valid_lstm, plot_auc_1_valid_lstm, plot_auc_2_valid_lstm = [], [], [], []\n",
    "\n",
    "for epoch in range(5):\n",
    "    print('-----epoch:', epoch, '-----')\n",
    "    print('Training: going over training data of size:', len(xtrain), ' in batches of size:', batchsize)\n",
    "    model2.train()\n",
    "    avgLossTrain = []\n",
    "    avgLossValid = []\n",
    "    ix_shuffle = np.arange(len(xtrain))\n",
    "    np.random.shuffle(ix_shuffle)\n",
    "    ypred =  np.zeros((len(ytrain), 3))\n",
    "    batch_i = []\n",
    "    batches = []\n",
    "    for ix in ix_shuffle:\n",
    "        batch_i.append(ix)\n",
    "        if len(batch_i) == batchsize:\n",
    "            batches.append(batch_i)\n",
    "            batch_i = []   \n",
    "    print('total batches:', len(batches))\n",
    "    for ib, bix in enumerate(batches):\n",
    "        model2.zero_grad() \n",
    "        modelout = model2(prepare_sequence_for_lstm(xtrain, bix))\n",
    "        if use_cuda:\n",
    "            targets = torch.LongTensor(torch.from_numpy(ytrain[bix].astype(np.int64))).cuda()\n",
    "        else:\n",
    "            targets = torch.LongTensor(torch.from_numpy(ytrain[bix].astype(np.int64)))\n",
    "        targets = autograd.Variable(targets)\n",
    "        loss = loss_function(modelout, targets)  \n",
    "        loss.backward()\n",
    "        ypred[bix, :] = modelout.data.numpy()\n",
    "        if use_cuda:\n",
    "            avgLossTrain.append(loss.cpu().data.numpy())\n",
    "        else:\n",
    "            avgLossTrain.append(loss.data.numpy())\n",
    "        optimizer.step()\n",
    "        if ib % 100 == 0:\n",
    "            print(ib, 'batches done. Average train loss so far:', np.array(avgLossTrain).mean())\n",
    "    mean_loss_train = np.array(avgLossTrain).mean()\n",
    "    print('Average train loss:', mean_loss_train)\n",
    "    auc_0 = roc_auc_score(y_true=(ytrain==0), y_score=ypred[:,0])\n",
    "    auc_1 = roc_auc_score(y_true=(ytrain==1), y_score=ypred[:,1])\n",
    "    auc_2 = roc_auc_score(y_true=(ytrain==2), y_score=ypred[:,2])\n",
    "    print('AUC train [0] is:', auc_0)\n",
    "    print('AUC train [1] is:', auc_1)\n",
    "    print('AUC train [2] is:', auc_2)\n",
    "    plot_loss_train_lstm.append(mean_loss_train)\n",
    "    plot_auc_0_train_lstm.append(auc_0)\n",
    "    plot_auc_1_train_lstm.append(auc_1)\n",
    "    plot_auc_2_train_lstm.append(auc_2) \n",
    "    print('---validating---')\n",
    "    ypredvalid = np.zeros((len(yvalid), 3))\n",
    "    model2.eval()\n",
    "    batches = []\n",
    "    batch_i = []\n",
    "    for ix in range(len(xvalid)):\n",
    "        batch_i.append(ix)\n",
    "        if len(batch_i) == batchsize:\n",
    "            batches.append(batch_i)\n",
    "            batch_i = []\n",
    "    for ib, bix in enumerate(batches):\n",
    "        modelout = model2(prepare_sequence_for_lstm(xvalid, bix))\n",
    "        if use_cuda:\n",
    "            targets = torch.LongTensor(torch.from_numpy(yvalid[bix].astype(np.int64))).cuda()\n",
    "        else:\n",
    "            targets = torch.LongTensor(torch.from_numpy(yvalid[bix].astype(np.int64)))\n",
    "        targets = autograd.Variable(targets)\n",
    "        ypredvalid[bix,:] = modelout.data.numpy()\n",
    "        loss = loss_function(modelout, targets)  \n",
    "        avgLossValid.append(loss.data.numpy())\n",
    "    mean_loss_valid = np.array(avgLossValid).mean()\n",
    "    print('Average valid loss:', mean_loss_valid)\n",
    "    auc_0 = roc_auc_score(y_true=(yvalid==0), y_score=ypredvalid[:,0])\n",
    "    auc_1 = roc_auc_score(y_true=(yvalid==1), y_score=ypredvalid[:,1])\n",
    "    auc_2 = roc_auc_score(y_true=(yvalid==2), y_score=ypredvalid[:,2])\n",
    "    print('AUC valid [0] is:', auc_0)\n",
    "    print('AUC valid [1] is:', auc_1)\n",
    "    print('AUC valid [2] is:', auc_2)\n",
    "    plot_loss_valid_lstm.append(mean_loss_valid)\n",
    "    plot_auc_0_valid_lstm.append(auc_0)\n",
    "    plot_auc_1_valid_lstm.append(auc_1)\n",
    "    plot_auc_2_valid_lstm.append(auc_2)\n",
    "   "
   ]
  },
  {
   "cell_type": "markdown",
   "metadata": {
    "collapsed": false,
    "deletable": true,
    "editable": true,
    "scrolled": true
   },
   "source": [
    "**3.9) (5 points)** What are some other architectures that you could be using in future work? List a few and in a few sentences discuss why they might be a good fit for this task. "
   ]
  },
  {
   "cell_type": "markdown",
   "metadata": {
    "collapsed": true,
    "deletable": true,
    "editable": true
   },
   "source": [
    "Answer:\n",
    "\n",
    "There is a lot that can be done with tunning existing architectures, including depth, bi-directionality, size of linear layer, number of fully connected layers, allowing fully connected to be based on all lstm output not just the last layer, etc. \n",
    "\n",
    "Additionally, you can use attention model, which might give more interpretable results. \n",
    "\n",
    "Third direction would be to combine convolution and LSTM\n",
    "\n",
    "Fourth direction would be to embedd the sub-sequences and then learn an LSTM/RNN/CNN on top of the embedding (instead of one-hot encodding). \n",
    "\n",
    "And many many more... "
   ]
  },
  {
   "cell_type": "markdown",
   "metadata": {
    "collapsed": false,
    "deletable": true,
    "editable": true
   },
   "source": [
    "**3.10)(5 points)** What are some other fine-tunning/regularizations/etc. that you could do in the future work, to improve the scores?"
   ]
  },
  {
   "cell_type": "markdown",
   "metadata": {
    "collapsed": true,
    "deletable": true,
    "editable": true
   },
   "source": [
    "Answer:\n",
    "\n",
    "Several possible answers including:\n",
    "\n",
    "BatchNormalization, regularization via dropout, tunning fully connected layer depth and widths, connecting the fully connected layer to all the outputs of lstm instead of last step, etc. etc.\n",
    "\n",
    "Also data augmentation might help improve scores: i.e. cropping the input randomly, adding small amount of noise, flipping some of the one-hot values randomly, adversarial training, etc. "
   ]
  },
  {
   "cell_type": "code",
   "execution_count": null,
   "metadata": {
    "collapsed": true,
    "deletable": true,
    "editable": true
   },
   "outputs": [],
   "source": []
  }
 ],
 "metadata": {
  "kernelspec": {
   "display_name": "Python 3",
   "language": "python",
   "name": "python3"
  },
  "language_info": {
   "codemirror_mode": {
    "name": "ipython",
    "version": 3
   },
   "file_extension": ".py",
   "mimetype": "text/x-python",
   "name": "python",
   "nbconvert_exporter": "python",
   "pygments_lexer": "ipython3",
   "version": "3.5.3"
  }
 },
 "nbformat": 4,
 "nbformat_minor": 2
}
